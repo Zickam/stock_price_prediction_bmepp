{
 "cells": [
  {
   "cell_type": "code",
   "execution_count": 1,
   "id": "7f83bd0a",
   "metadata": {},
   "outputs": [],
   "source": [
    "from sklearn.linear_model import LinearRegression\n",
    "from sklearn.feature_extraction.text import TfidfVectorizer\n",
    "from sklearn.metrics import mean_squared_error\n",
    "from sklearn.model_selection import train_test_split\n",
    "import pandas as pd"
   ]
  },
  {
   "cell_type": "code",
   "execution_count": 43,
   "id": "680fd1b3",
   "metadata": {},
   "outputs": [
    {
     "data": {
      "text/html": [
       "<div>\n",
       "<style scoped>\n",
       "    .dataframe tbody tr th:only-of-type {\n",
       "        vertical-align: middle;\n",
       "    }\n",
       "\n",
       "    .dataframe tbody tr th {\n",
       "        vertical-align: top;\n",
       "    }\n",
       "\n",
       "    .dataframe thead th {\n",
       "        text-align: right;\n",
       "    }\n",
       "</style>\n",
       "<table border=\"1\" class=\"dataframe\">\n",
       "  <thead>\n",
       "    <tr style=\"text-align: right;\">\n",
       "      <th></th>\n",
       "      <th>title</th>\n",
       "      <th>score</th>\n",
       "      <th>link</th>\n",
       "      <th>summary</th>\n",
       "      <th>published</th>\n",
       "      <th>tickers</th>\n",
       "    </tr>\n",
       "  </thead>\n",
       "  <tbody>\n",
       "    <tr>\n",
       "      <th>0</th>\n",
       "      <td>Электромобильный стартап Arrival экс-главы Yot...</td>\n",
       "      <td>-0.583333</td>\n",
       "      <td>https://www.rbc.ru/technology_and_media/12/05/...</td>\n",
       "      <td>Британский электромобильный стартап Arrival, к...</td>\n",
       "      <td>Thu, 12 May 2022 05:10:01 +0300</td>\n",
       "      <td>['ARVL']</td>\n",
       "    </tr>\n",
       "    <tr>\n",
       "      <th>1</th>\n",
       "      <td>Экс-глава НМТП рассказал о «напряженных отноше...</td>\n",
       "      <td>-0.314286</td>\n",
       "      <td>https://www.rbc.ru/society/16/11/2020/5fb2709d...</td>\n",
       "      <td>Экс-председатель совета директоров Новороссийс...</td>\n",
       "      <td>Fri, 20 May 2022 19:13:18 +0300</td>\n",
       "      <td>['NMTP']</td>\n",
       "    </tr>\n",
       "    <tr>\n",
       "      <th>2</th>\n",
       "      <td>Шрёдер отклонил предложение войти в совет дире...</td>\n",
       "      <td>-0.333333</td>\n",
       "      <td>https://www.rbc.ru/business/20/05/2022/628772b...</td>\n",
       "      <td>Его кандидатуру выдвинули в начале февраля. Ка...</td>\n",
       "      <td>Tue, 24 May 2022 22:12:05 +0300</td>\n",
       "      <td>['GAZP']</td>\n",
       "    </tr>\n",
       "    <tr>\n",
       "      <th>3</th>\n",
       "      <td>Шельф берут в разработку // Генподрядчиком «Га...</td>\n",
       "      <td>0.700000</td>\n",
       "      <td>https://www.kommersant.ru/doc/5482398</td>\n",
       "      <td>Как стало известно “Ъ”, «Аврора» Андрея Патруш...</td>\n",
       "      <td>Fri, 29 Jul 2022 00:28:00 +0300</td>\n",
       "      <td>['GAZP']</td>\n",
       "    </tr>\n",
       "    <tr>\n",
       "      <th>4</th>\n",
       "      <td>Чистый убыток \"Юнипро\" в 1 полугодии 2022 года...</td>\n",
       "      <td>-0.611111</td>\n",
       "      <td>https://www.finam.ru/analysis/newsitem/chistyi...</td>\n",
       "      <td>Чистый убыток \"Юнипро\" в 1 полугодии 2022 года...</td>\n",
       "      <td>Thu, 28 Jul 2022 12:43:00 +0300</td>\n",
       "      <td>['UPRO']</td>\n",
       "    </tr>\n",
       "    <tr>\n",
       "      <th>...</th>\n",
       "      <td>...</td>\n",
       "      <td>...</td>\n",
       "      <td>...</td>\n",
       "      <td>...</td>\n",
       "      <td>...</td>\n",
       "      <td>...</td>\n",
       "    </tr>\n",
       "    <tr>\n",
       "      <th>527</th>\n",
       "      <td>\"КуйбышевАзот\" зафиксировал рост выработки осн...</td>\n",
       "      <td>0.782609</td>\n",
       "      <td>https://www.finam.ru/analysis/newsitem/kuiybys...</td>\n",
       "      <td>\"КуйбышевАзот\" зафиксировал рост выработки осн...</td>\n",
       "      <td>Wed, 27 Jul 2022 10:15:14 +0300</td>\n",
       "      <td>['KAZT']</td>\n",
       "    </tr>\n",
       "    <tr>\n",
       "      <th>528</th>\n",
       "      <td>\"Газпром\" прекратил поставки газа в Латвию</td>\n",
       "      <td>-0.333333</td>\n",
       "      <td>https://www.finam.ru/analysis/newsitem/gazprom...</td>\n",
       "      <td>С сегодняшнего дня \"Газпром\" прекратил поставк...</td>\n",
       "      <td>Sat, 30 Jul 2022 10:19:14 +0300</td>\n",
       "      <td>['GAZP']</td>\n",
       "    </tr>\n",
       "    <tr>\n",
       "      <th>529</th>\n",
       "      <td>\"Газпром\" опубликовал часть документов по КС \"...</td>\n",
       "      <td>-0.214286</td>\n",
       "      <td>https://www.finam.ru/analysis/newsitem/gazprom...</td>\n",
       "      <td>\"Газпром\" опубликовал часть документов по КС \"...</td>\n",
       "      <td>Fri, 29 Jul 2022 22:54:18 +0300</td>\n",
       "      <td>['GAZP']</td>\n",
       "    </tr>\n",
       "    <tr>\n",
       "      <th>530</th>\n",
       "      <td>\"Газпром нефть\" испытала российские поверхност...</td>\n",
       "      <td>0.574468</td>\n",
       "      <td>https://www.finam.ru/analysis/newsitem/gazprom...</td>\n",
       "      <td>\"Газпром нефть\" испытала на Холмогорском место...</td>\n",
       "      <td>Tue, 26 Jul 2022 10:24:43 +0300</td>\n",
       "      <td>['GAZP', 'SIBN']</td>\n",
       "    </tr>\n",
       "    <tr>\n",
       "      <th>531</th>\n",
       "      <td>\"Аэрофлот\" запускает прямые рейсы из Сочи в Дубай</td>\n",
       "      <td>0.714286</td>\n",
       "      <td>https://www.finam.ru/analysis/newsitem/aeroflo...</td>\n",
       "      <td>\"Аэрофлот\" с 3 августа открывает прямые регуля...</td>\n",
       "      <td>Wed, 27 Jul 2022 12:55:48 +0300</td>\n",
       "      <td>['AFLT']</td>\n",
       "    </tr>\n",
       "  </tbody>\n",
       "</table>\n",
       "<p>520 rows × 6 columns</p>\n",
       "</div>"
      ],
      "text/plain": [
       "                                                 title     score  \\\n",
       "0    Электромобильный стартап Arrival экс-главы Yot... -0.583333   \n",
       "1    Экс-глава НМТП рассказал о «напряженных отноше... -0.314286   \n",
       "2    Шрёдер отклонил предложение войти в совет дире... -0.333333   \n",
       "3    Шельф берут в разработку // Генподрядчиком «Га...  0.700000   \n",
       "4    Чистый убыток \"Юнипро\" в 1 полугодии 2022 года... -0.611111   \n",
       "..                                                 ...       ...   \n",
       "527  \"КуйбышевАзот\" зафиксировал рост выработки осн...  0.782609   \n",
       "528         \"Газпром\" прекратил поставки газа в Латвию -0.333333   \n",
       "529  \"Газпром\" опубликовал часть документов по КС \"... -0.214286   \n",
       "530  \"Газпром нефть\" испытала российские поверхност...  0.574468   \n",
       "531  \"Аэрофлот\" запускает прямые рейсы из Сочи в Дубай  0.714286   \n",
       "\n",
       "                                                  link  \\\n",
       "0    https://www.rbc.ru/technology_and_media/12/05/...   \n",
       "1    https://www.rbc.ru/society/16/11/2020/5fb2709d...   \n",
       "2    https://www.rbc.ru/business/20/05/2022/628772b...   \n",
       "3                https://www.kommersant.ru/doc/5482398   \n",
       "4    https://www.finam.ru/analysis/newsitem/chistyi...   \n",
       "..                                                 ...   \n",
       "527  https://www.finam.ru/analysis/newsitem/kuiybys...   \n",
       "528  https://www.finam.ru/analysis/newsitem/gazprom...   \n",
       "529  https://www.finam.ru/analysis/newsitem/gazprom...   \n",
       "530  https://www.finam.ru/analysis/newsitem/gazprom...   \n",
       "531  https://www.finam.ru/analysis/newsitem/aeroflo...   \n",
       "\n",
       "                                               summary  \\\n",
       "0    Британский электромобильный стартап Arrival, к...   \n",
       "1    Экс-председатель совета директоров Новороссийс...   \n",
       "2    Его кандидатуру выдвинули в начале февраля. Ка...   \n",
       "3    Как стало известно “Ъ”, «Аврора» Андрея Патруш...   \n",
       "4    Чистый убыток \"Юнипро\" в 1 полугодии 2022 года...   \n",
       "..                                                 ...   \n",
       "527  \"КуйбышевАзот\" зафиксировал рост выработки осн...   \n",
       "528  С сегодняшнего дня \"Газпром\" прекратил поставк...   \n",
       "529  \"Газпром\" опубликовал часть документов по КС \"...   \n",
       "530  \"Газпром нефть\" испытала на Холмогорском место...   \n",
       "531  \"Аэрофлот\" с 3 августа открывает прямые регуля...   \n",
       "\n",
       "                           published           tickers  \n",
       "0    Thu, 12 May 2022 05:10:01 +0300          ['ARVL']  \n",
       "1    Fri, 20 May 2022 19:13:18 +0300          ['NMTP']  \n",
       "2    Tue, 24 May 2022 22:12:05 +0300          ['GAZP']  \n",
       "3    Fri, 29 Jul 2022 00:28:00 +0300          ['GAZP']  \n",
       "4    Thu, 28 Jul 2022 12:43:00 +0300          ['UPRO']  \n",
       "..                               ...               ...  \n",
       "527  Wed, 27 Jul 2022 10:15:14 +0300          ['KAZT']  \n",
       "528  Sat, 30 Jul 2022 10:19:14 +0300          ['GAZP']  \n",
       "529  Fri, 29 Jul 2022 22:54:18 +0300          ['GAZP']  \n",
       "530  Tue, 26 Jul 2022 10:24:43 +0300  ['GAZP', 'SIBN']  \n",
       "531  Wed, 27 Jul 2022 12:55:48 +0300          ['AFLT']  \n",
       "\n",
       "[520 rows x 6 columns]"
      ]
     },
     "execution_count": 43,
     "metadata": {},
     "output_type": "execute_result"
    }
   ],
   "source": [
    "df = pd.read_csv(\"data.tsv\", sep='\\t')\n",
    "\n",
    "train, test = train_test_split(df1, test_size=0.3, random_state=42)\n",
    "df1 = df.dropna()\n",
    "df1"
   ]
  },
  {
   "cell_type": "code",
   "execution_count": 25,
   "id": "c6696f25",
   "metadata": {},
   "outputs": [
    {
     "data": {
      "text/html": [
       "<style>#sk-container-id-2 {color: black;}#sk-container-id-2 pre{padding: 0;}#sk-container-id-2 div.sk-toggleable {background-color: white;}#sk-container-id-2 label.sk-toggleable__label {cursor: pointer;display: block;width: 100%;margin-bottom: 0;padding: 0.3em;box-sizing: border-box;text-align: center;}#sk-container-id-2 label.sk-toggleable__label-arrow:before {content: \"▸\";float: left;margin-right: 0.25em;color: #696969;}#sk-container-id-2 label.sk-toggleable__label-arrow:hover:before {color: black;}#sk-container-id-2 div.sk-estimator:hover label.sk-toggleable__label-arrow:before {color: black;}#sk-container-id-2 div.sk-toggleable__content {max-height: 0;max-width: 0;overflow: hidden;text-align: left;background-color: #f0f8ff;}#sk-container-id-2 div.sk-toggleable__content pre {margin: 0.2em;color: black;border-radius: 0.25em;background-color: #f0f8ff;}#sk-container-id-2 input.sk-toggleable__control:checked~div.sk-toggleable__content {max-height: 200px;max-width: 100%;overflow: auto;}#sk-container-id-2 input.sk-toggleable__control:checked~label.sk-toggleable__label-arrow:before {content: \"▾\";}#sk-container-id-2 div.sk-estimator input.sk-toggleable__control:checked~label.sk-toggleable__label {background-color: #d4ebff;}#sk-container-id-2 div.sk-label input.sk-toggleable__control:checked~label.sk-toggleable__label {background-color: #d4ebff;}#sk-container-id-2 input.sk-hidden--visually {border: 0;clip: rect(1px 1px 1px 1px);clip: rect(1px, 1px, 1px, 1px);height: 1px;margin: -1px;overflow: hidden;padding: 0;position: absolute;width: 1px;}#sk-container-id-2 div.sk-estimator {font-family: monospace;background-color: #f0f8ff;border: 1px dotted black;border-radius: 0.25em;box-sizing: border-box;margin-bottom: 0.5em;}#sk-container-id-2 div.sk-estimator:hover {background-color: #d4ebff;}#sk-container-id-2 div.sk-parallel-item::after {content: \"\";width: 100%;border-bottom: 1px solid gray;flex-grow: 1;}#sk-container-id-2 div.sk-label:hover label.sk-toggleable__label {background-color: #d4ebff;}#sk-container-id-2 div.sk-serial::before {content: \"\";position: absolute;border-left: 1px solid gray;box-sizing: border-box;top: 0;bottom: 0;left: 50%;z-index: 0;}#sk-container-id-2 div.sk-serial {display: flex;flex-direction: column;align-items: center;background-color: white;padding-right: 0.2em;padding-left: 0.2em;position: relative;}#sk-container-id-2 div.sk-item {position: relative;z-index: 1;}#sk-container-id-2 div.sk-parallel {display: flex;align-items: stretch;justify-content: center;background-color: white;position: relative;}#sk-container-id-2 div.sk-item::before, #sk-container-id-2 div.sk-parallel-item::before {content: \"\";position: absolute;border-left: 1px solid gray;box-sizing: border-box;top: 0;bottom: 0;left: 50%;z-index: -1;}#sk-container-id-2 div.sk-parallel-item {display: flex;flex-direction: column;z-index: 1;position: relative;background-color: white;}#sk-container-id-2 div.sk-parallel-item:first-child::after {align-self: flex-end;width: 50%;}#sk-container-id-2 div.sk-parallel-item:last-child::after {align-self: flex-start;width: 50%;}#sk-container-id-2 div.sk-parallel-item:only-child::after {width: 0;}#sk-container-id-2 div.sk-dashed-wrapped {border: 1px dashed gray;margin: 0 0.4em 0.5em 0.4em;box-sizing: border-box;padding-bottom: 0.4em;background-color: white;}#sk-container-id-2 div.sk-label label {font-family: monospace;font-weight: bold;display: inline-block;line-height: 1.2em;}#sk-container-id-2 div.sk-label-container {text-align: center;}#sk-container-id-2 div.sk-container {/* jupyter's `normalize.less` sets `[hidden] { display: none; }` but bootstrap.min.css set `[hidden] { display: none !important; }` so we also need the `!important` here to be able to override the default hidden behavior on the sphinx rendered scikit-learn.org. See: https://github.com/scikit-learn/scikit-learn/issues/21755 */display: inline-block !important;position: relative;}#sk-container-id-2 div.sk-text-repr-fallback {display: none;}</style><div id=\"sk-container-id-2\" class=\"sk-top-container\"><div class=\"sk-text-repr-fallback\"><pre>LinearRegression()</pre><b>In a Jupyter environment, please rerun this cell to show the HTML representation or trust the notebook. <br />On GitHub, the HTML representation is unable to render, please try loading this page with nbviewer.org.</b></div><div class=\"sk-container\" hidden><div class=\"sk-item\"><div class=\"sk-estimator sk-toggleable\"><input class=\"sk-toggleable__control sk-hidden--visually\" id=\"sk-estimator-id-2\" type=\"checkbox\" checked><label for=\"sk-estimator-id-2\" class=\"sk-toggleable__label sk-toggleable__label-arrow\">LinearRegression</label><div class=\"sk-toggleable__content\"><pre>LinearRegression()</pre></div></div></div></div></div>"
      ],
      "text/plain": [
       "LinearRegression()"
      ]
     },
     "execution_count": 25,
     "metadata": {},
     "output_type": "execute_result"
    }
   ],
   "source": [
    "vectorizer = TfidfVectorizer()\n",
    "vectorizer.fit(df1['summary'])\n",
    "\n",
    "model = LinearRegression()\n",
    "model.fit(vectorizer.transform(train['summary']), train['score'])"
   ]
  },
  {
   "cell_type": "code",
   "execution_count": 4,
   "id": "7533b31e",
   "metadata": {},
   "outputs": [
    {
     "data": {
      "text/plain": [
       "title        У погибшего бывшего вице-президента Газпромбан...\n",
       "score                                                 -0.74359\n",
       "link         https://www.rbc.ru/rbcfreenews/62020dd59a79475...\n",
       "summary      Бывший вице-президент Газпромбанка Владислав А...\n",
       "published                      Tue, 19 Apr 2022 02:13:43 +0300\n",
       "tickers                                               ['GAZP']\n",
       "Name: 24, dtype: object"
      ]
     },
     "execution_count": 4,
     "metadata": {},
     "output_type": "execute_result"
    }
   ],
   "source": [
    "mean_squared_error(test['score'], model.predict(vectorizer.transform(test['title'])))\n",
    "train.iloc[1]"
   ]
  },
  {
   "cell_type": "code",
   "execution_count": 39,
   "id": "3585bd5b",
   "metadata": {},
   "outputs": [
    {
     "data": {
      "text/plain": [
       "array([0.25148215])"
      ]
     },
     "execution_count": 39,
     "metadata": {},
     "output_type": "execute_result"
    }
   ],
   "source": [
    "model.predict(vectorizer.transform([\"Структурные облигации Сбера начнут торговаться на Мосбирже\"]))"
   ]
  },
  {
   "cell_type": "code",
   "execution_count": null,
   "id": "0cbe8606",
   "metadata": {},
   "outputs": [],
   "source": []
  }
 ],
 "metadata": {
  "kernelspec": {
   "display_name": "Python 3 (ipykernel)",
   "language": "python",
   "name": "python3"
  },
  "language_info": {
   "codemirror_mode": {
    "name": "ipython",
    "version": 3
   },
   "file_extension": ".py",
   "mimetype": "text/x-python",
   "name": "python",
   "nbconvert_exporter": "python",
   "pygments_lexer": "ipython3",
   "version": "3.11.4"
  }
 },
 "nbformat": 4,
 "nbformat_minor": 5
}
