{
 "cells": [
  {
   "cell_type": "code",
   "execution_count": 2,
   "id": "fd939d72-649c-4f37-84a6-9940eb58134f",
   "metadata": {},
   "outputs": [],
   "source": [
    "import string\n",
    "\n",
    "import pandas as pd\n",
    "import nltk\n",
    "from nltk.corpus import stopwords\n",
    "from nltk.tokenize import word_tokenize\n",
    "from nltk.stem.snowball import SnowballStemmer\n",
    "from sklearn.feature_extraction.text import TfidfVectorizer, CountVectorizer\n",
    "import text2text as t2t\n",
    "from nltk.tokenize import sent_tokenize\n",
    "from sklearn.linear_model import LogisticRegression\n",
    "import numpy as np\n",
    "from sklearn.model_selection import train_test_split\n",
    "\n",
    "\n",
    "# nltk.download('punkt_tab')\n",
    "# nltk.download('stopwords')\n",
    "\n"
   ]
  },
  {
   "cell_type": "code",
   "execution_count": 66,
   "id": "2e73fb35-7d2b-4b2d-9e37-b39dbbe55c03",
   "metadata": {},
   "outputs": [],
   "source": [
    "stop_words = set(stopwords.words('russian'))\n",
    "stemmer = SnowballStemmer(\"russian\")"
   ]
  },
  {
   "cell_type": "code",
   "execution_count": 103,
   "id": "0306cd97-eeba-48a9-a2d2-98106ef764ca",
   "metadata": {},
   "outputs": [],
   "source": [
    "vectorizer = CountVectorizer(stop_words=list(stop_words))"
   ]
  },
  {
   "cell_type": "code",
   "execution_count": 86,
   "id": "e5e0e954-3f15-4d87-828b-aa55fc643f73",
   "metadata": {},
   "outputs": [],
   "source": [
    "vectorizer = TfidfVectorizer(stop_words=list(stop_words))"
   ]
  },
  {
   "cell_type": "code",
   "execution_count": 48,
   "id": "71ab3179-a36d-449d-9d47-11ec76b451cc",
   "metadata": {},
   "outputs": [],
   "source": [
    "allowed_symbols = (\n",
    "        string.ascii_lowercase +\n",
    "        \" -+%.,\" +\n",
    "        # string.digits +\n",
    "        \"абвгдежзийклмнопрстуфхцчшщъыьэюя\"\n",
    ")\n",
    "def getClearText(text: str) -> str:\n",
    "    cleared_text = \"\"\n",
    "    for letter in text:\n",
    "        if letter in allowed_symbols:\n",
    "            cleared_text += letter\n",
    "\n",
    "    return cleared_text\n",
    "\n",
    "replace_dict = {\n",
    "    \" +\": \" плюс \",\n",
    "    \" -\": \" минус \",\n",
    "    \"%\": \" процент \"\n",
    "}\n",
    "def replaceSymbols(text: str) -> str:\n",
    "    new_text = text\n",
    "    for key, value in replace_dict.items():\n",
    "        new_text = new_text.replace(key, value)\n",
    "    return new_text\n"
   ]
  },
  {
   "cell_type": "code",
   "execution_count": 92,
   "id": "7b8529f5-005f-43d8-bfc4-fb94de92b0fc",
   "metadata": {},
   "outputs": [],
   "source": [
    "\n",
    "df = pd.read_csv(\"database_some.csv\")\n",
    "# df = df.iloc[:1000]\n",
    "\n",
    "df_texts = df.Text\n",
    "# normalized to [0, 1]\n",
    "\n",
    "# \n",
    "\n"
   ]
  },
  {
   "cell_type": "markdown",
   "id": "20f34a59-d2b2-4b4c-894a-fde8b46d7b69",
   "metadata": {},
   "source": [
    "# Continuous"
   ]
  },
  {
   "cell_type": "code",
   "execution_count": 133,
   "id": "d46b88ad-eef5-4d27-8a39-685196107ac6",
   "metadata": {},
   "outputs": [],
   "source": [
    "values = [(value + 1) / 2 for value in df.Value]"
   ]
  },
  {
   "cell_type": "markdown",
   "id": "92703369-ec41-4feb-8e3a-50e1973d7d8e",
   "metadata": {},
   "source": [
    "# Binary"
   ]
  },
  {
   "cell_type": "code",
   "execution_count": 93,
   "id": "6fb27f25-338d-47ea-a1cd-055d13b8c311",
   "metadata": {},
   "outputs": [],
   "source": [
    "values = np.array([-1 if value < 0 else 1 for value in df.Value])"
   ]
  },
  {
   "cell_type": "code",
   "execution_count": 134,
   "id": "31b26515-dfaf-4bb7-b358-741fe4440aae",
   "metadata": {},
   "outputs": [],
   "source": [
    "\n",
    "cleared = []\n",
    "for text in df_texts:\n",
    "    text = text.lower()\n",
    "    cleared_text = getClearText(text)\n",
    "    cleared_text = replaceSymbols(cleared_text)\n",
    "    cleared.append(cleared_text)\n",
    "\n",
    "# texts = []\n",
    "# for text in cleared:\n",
    "#     words = word_tokenize(text)\n",
    "#     words_filtered = []\n",
    "#     for word in words:\n",
    "#         if word in stop_words:\n",
    "#             continue\n",
    "#         word = stemmer.stem(word)\n",
    "#         words_filtered.append(word)\n",
    "#\n",
    "#     text = \"\"\n",
    "#     for word in words_filtered:\n",
    "#         text += word + \" \"\n",
    "#     # tokenized_sentences = sent_tokenize(text)\n",
    "#\n",
    "#     texts.append(text)\n",
    "\n",
    "vectorized = vectorizer.fit_transform(cleared)\n",
    "\n",
    "\n",
    "\n",
    "# Split data\n"
   ]
  },
  {
   "cell_type": "code",
   "execution_count": 135,
   "id": "6bb1ae21-0428-4619-ad77-77e0adbed344",
   "metadata": {},
   "outputs": [
    {
     "name": "stdout",
     "output_type": "stream",
     "text": [
      "(12,)\n"
     ]
    },
    {
     "data": {
      "text/html": [
       "<div>\n",
       "<style scoped>\n",
       "    .dataframe tbody tr th:only-of-type {\n",
       "        vertical-align: middle;\n",
       "    }\n",
       "\n",
       "    .dataframe tbody tr th {\n",
       "        vertical-align: top;\n",
       "    }\n",
       "\n",
       "    .dataframe thead th {\n",
       "        text-align: right;\n",
       "    }\n",
       "</style>\n",
       "<table border=\"1\" class=\"dataframe\">\n",
       "  <thead>\n",
       "    <tr style=\"text-align: right;\">\n",
       "      <th></th>\n",
       "      <th>TF-IDF</th>\n",
       "    </tr>\n",
       "  </thead>\n",
       "  <tbody>\n",
       "    <tr>\n",
       "      <th>процент</th>\n",
       "      <td>25</td>\n",
       "    </tr>\n",
       "    <tr>\n",
       "      <th>индекс</th>\n",
       "      <td>11</td>\n",
       "    </tr>\n",
       "    <tr>\n",
       "      <th>отметке</th>\n",
       "      <td>10</td>\n",
       "    </tr>\n",
       "    <tr>\n",
       "      <th>оао</th>\n",
       "      <td>8</td>\n",
       "    </tr>\n",
       "    <tr>\n",
       "      <th>торги</th>\n",
       "      <td>7</td>\n",
       "    </tr>\n",
       "    <tr>\n",
       "      <th>...</th>\n",
       "      <td>...</td>\n",
       "    </tr>\n",
       "    <tr>\n",
       "      <th>инград</th>\n",
       "      <td>0</td>\n",
       "    </tr>\n",
       "    <tr>\n",
       "      <th>ингосстрах</th>\n",
       "      <td>0</td>\n",
       "    </tr>\n",
       "    <tr>\n",
       "      <th>инг</th>\n",
       "      <td>0</td>\n",
       "    </tr>\n",
       "    <tr>\n",
       "      <th>инвестфонды</th>\n",
       "      <td>0</td>\n",
       "    </tr>\n",
       "    <tr>\n",
       "      <th>ящиков</th>\n",
       "      <td>0</td>\n",
       "    </tr>\n",
       "  </tbody>\n",
       "</table>\n",
       "<p>33074 rows × 1 columns</p>\n",
       "</div>"
      ],
      "text/plain": [
       "             TF-IDF\n",
       "процент          25\n",
       "индекс           11\n",
       "отметке          10\n",
       "оао               8\n",
       "торги             7\n",
       "...             ...\n",
       "инград            0\n",
       "ингосстрах        0\n",
       "инг               0\n",
       "инвестфонды       0\n",
       "ящиков            0\n",
       "\n",
       "[33074 rows x 1 columns]"
      ]
     },
     "execution_count": 135,
     "metadata": {},
     "output_type": "execute_result"
    }
   ],
   "source": [
    "df_vectorized = pd.DataFrame(vectorized[0].T.todense(),\n",
    "                  index=vectorizer.get_feature_names_out(), columns=[\"TF-IDF\"])\n",
    "df_vectorized = df_vectorized.sort_values('TF-IDF', ascending=False)\n",
    "print(np.unique(df_vectorized.values).shape)\n",
    "df_vectorized\n"
   ]
  },
  {
   "cell_type": "markdown",
   "id": "82c9f883-d0c2-4c07-a0a4-1dcdc8a36cb1",
   "metadata": {},
   "source": [
    "# Continuous values"
   ]
  },
  {
   "cell_type": "code",
   "execution_count": null,
   "id": "266e2862-23de-45ec-a8d8-c939eed2b094",
   "metadata": {},
   "outputs": [],
   "source": [
    "num_classes = 3  # Match the number of classes in the data\n",
    "bin_edges = np.linspace(0, 1, num_classes + 1)  # Create bin edges\n",
    "bin_centers = (bin_edges[:-1] + bin_edges[1:]) / 2  # Compute bin centers\n",
    "\n",
    "# Digitize values into bins\n",
    "y_binned = np.digitize(values, bins=bin_edges, right=True) - 1  # Adjust to 0-based indexing"
   ]
  },
  {
   "cell_type": "code",
   "execution_count": null,
   "id": "21ae1d79-86c1-4bbb-b865-1ceb4a45164f",
   "metadata": {},
   "outputs": [],
   "source": [
    "\n",
    "random_state = 3\n",
    "test_size = 0.05\n",
    "\n",
    "x_train, x_test, y_train, y_test = train_test_split(\n",
    "    vectorized,\n",
    "    y_binned,\n",
    "    test_size=test_size,\n",
    "    random_state=random_state\n",
    ")\n",
    "x_original_train, x_original_test, _, _ = train_test_split(\n",
    "df_texts,\n",
    "    y_binned,\n",
    "    test_size=test_size,\n",
    "    random_state=random_state\n",
    ")\n"
   ]
  },
  {
   "cell_type": "markdown",
   "id": "2f8d5e1a-bc5b-44de-af34-00fadcbd0f27",
   "metadata": {},
   "source": [
    "# Binary"
   ]
  },
  {
   "cell_type": "code",
   "execution_count": 131,
   "id": "a4b3bb9a-c720-46ee-9fd0-f92e7672350c",
   "metadata": {},
   "outputs": [],
   "source": [
    "random_state = 3\n",
    "test_size = 0.05\n",
    "\n",
    "x_train, x_test, y_train, y_test = train_test_split(\n",
    "    vectorized,\n",
    "    values,\n",
    "    test_size=test_size,\n",
    "    random_state=random_state\n",
    ")\n",
    "x_original_train, x_original_test, _, _ = train_test_split(\n",
    "df_texts,\n",
    "    values,\n",
    "    test_size=test_size,\n",
    "    random_state=random_state\n",
    ")\n"
   ]
  },
  {
   "cell_type": "code",
   "execution_count": null,
   "id": "16aac11f-e89e-4ed4-82a7-6b502eeb0eb8",
   "metadata": {},
   "outputs": [],
   "source": [
    "\n",
    "# Train logistic regression\n",
    "model = LogisticRegression(\n",
    "    random_state=random_state,\n",
    "    max_iter=1900 # 1900\n",
    ")\n",
    "model.fit(x_train, y_train)\n",
    "\n"
   ]
  },
  {
   "cell_type": "markdown",
   "id": "5cabb91b-d300-498d-aaf0-fb434cb3e7ed",
   "metadata": {},
   "source": [
    "# Вариант для continuous values"
   ]
  },
  {
   "cell_type": "code",
   "execution_count": 150,
   "id": "f55dd090-011c-4dfe-869e-e98d465bfebd",
   "metadata": {},
   "outputs": [
    {
     "name": "stdout",
     "output_type": "stream",
     "text": [
      "                                           OriginalText  \\\n",
      "1959  © Reuters. Рынок акций Московской биржи по сос...   \n",
      "2879  © Reuters\\nInvesting.com — Обыкновенные акции ...   \n",
      "322   © Reuters. Рынок акций Московской биржи по сос...   \n",
      "2428  Investing.com — Несмотря на улучшение платежно...   \n",
      "2964  © Reuters. Рынок акций Московской биржи по сос...   \n",
      "...                                                 ...   \n",
      "2724  © Reuters. Рынок акций Московской биржи по сос...   \n",
      "3567  © Reuters. Рынок акций Московской биржи по сос...   \n",
      "3374  © Reuters.\\nInvesting.com — Российский IT-гига...   \n",
      "115   В понедельник, 10 октября, ожидаются выплаты к...   \n",
      "3227  © Пресс-служба банка ВТБ ВТБ продал 4,9% \"Магн...   \n",
      "\n",
      "                                         VectorizedText  Predicted_Value  \\\n",
      "1959  reuters рынок акций индекс процент торги моско...        -0.001086   \n",
      "2879  процент com московской роста акции подорожали ...         0.278654   \n",
      "322   reuters рынок акций индекс процент торги моско...         0.324975   \n",
      "2428  investing com уровне который втб млн сегодня о...         0.091980   \n",
      "2964  reuters рынок акций индекс процент торги моско...        -0.304399   \n",
      "...                                                 ...              ...   \n",
      "2724  reuters рынок акций индекс процент торги моско...        -0.003008   \n",
      "3567  reuters рынок акций индекс процент торги моско...        -0.017912   \n",
      "3374  reuters акций investing com цене российский ры...        -0.393971   \n",
      "115   mcxplzl mcxmfon кредитный банк компания пао мл...         0.774540   \n",
      "3227  процент закрытия московской бирже итогам торго...        -0.374995   \n",
      "\n",
      "      ActualValue  \n",
      "1959            2  \n",
      "2879            2  \n",
      "322             4  \n",
      "2428            2  \n",
      "2964            2  \n",
      "...           ...  \n",
      "2724            2  \n",
      "3567            1  \n",
      "3374            1  \n",
      "115             4  \n",
      "3227            1  \n",
      "\n",
      "[234 rows x 4 columns]\n",
      "0.8651330626973387\n",
      "0.6623931623931624\n"
     ]
    }
   ],
   "source": [
    "\n",
    "# Predict probabilities\n",
    "y_probs = model.predict_proba(x_test)\n",
    "\n",
    "# Map probabilities back to continuous values\n",
    "y_pred_continuous = np.dot(y_probs, bin_centers)\n",
    "\n",
    "# Convert predictions back to original scale [-1, 1]\n",
    "original_values = [2 * value - 1 for value in y_pred_continuous]\n",
    "\n",
    "\n",
    "# print(\"Continuous Predictions:\", original_values)\n",
    "x_test_texts = vectorizer.inverse_transform(x_test)  # List of tokenized words per row\n",
    "\n",
    "# Combine x_test with predictions into a DataFrame\n",
    "result_df = pd.DataFrame({\n",
    "    \"OriginalText\": x_original_test,\n",
    "    \"VectorizedText\": [\" \".join(text) for text in x_test_texts],\n",
    "    \"Predicted_Value\": original_values,\n",
    "    \"ActualValue\": y_test\n",
    "})\n",
    "\n",
    "result_df.to_csv(\"predicted.csv\")\n",
    "\n",
    "print(result_df)\n",
    "\n",
    "print(model.score(x_train, y_train))\n",
    "print(model.score(x_test, y_test))"
   ]
  },
  {
   "cell_type": "markdown",
   "id": "492075e2-ba34-4ce1-9d6f-be412bdaf82f",
   "metadata": {},
   "source": [
    "# Вариант для бинарный values"
   ]
  },
  {
   "cell_type": "code",
   "execution_count": 130,
   "id": "8a523021-9cfc-4306-9e1d-da9143c812de",
   "metadata": {},
   "outputs": [
    {
     "name": "stdout",
     "output_type": "stream",
     "text": [
      "[-1  1  1 ... -1 -1 -1]\n",
      "                                           OriginalText  \\\n",
      "1959  © Reuters. Рынок акций Московской биржи по сос...   \n",
      "2879  © Reuters\\nInvesting.com — Обыкновенные акции ...   \n",
      "322   © Reuters. Рынок акций Московской биржи по сос...   \n",
      "2428  Investing.com — Несмотря на улучшение платежно...   \n",
      "2964  © Reuters. Рынок акций Московской биржи по сос...   \n",
      "...                                                 ...   \n",
      "1735  © Reuters. Рынок акций Московской биржи по сос...   \n",
      "3681  Investing.com — ЦБ полагает, что вложения в эк...   \n",
      "3547  © Reuters.\\nInvesting.com — Аналитики брокера ...   \n",
      "3543  © Reuters. Рынок акций Московской биржи по сос...   \n",
      "3896  © Reuters. \"Яндекс\" увеличил выручку в 3-м ква...   \n",
      "\n",
      "                                         VectorizedText  Predicted_Value  \\\n",
      "1959  reuters рынок акций индекс процент торги моско...               -1   \n",
      "2879  процент com московской роста акции подорожали ...                1   \n",
      "322   reuters рынок акций индекс процент торги моско...                1   \n",
      "2428  investing com уровне который втб млн сегодня о...               -1   \n",
      "2964  reuters рынок акций индекс процент торги моско...               -1   \n",
      "...                                                 ...              ...   \n",
      "1735  reuters рынок акций индекс процент торги моско...               -1   \n",
      "3681  процент investing com group mcx который яндекс...               -1   \n",
      "3547  reuters акций индекс мосбиржи процент investin...               -1   \n",
      "3543  reuters рынок акций индекс процент торги моско...               -1   \n",
      "3896  reuters процент роста уровне количество минус ...               -1   \n",
      "\n",
      "      ActualValue  \n",
      "1959            1  \n",
      "2879           -1  \n",
      "322             1  \n",
      "2428           -1  \n",
      "2964           -1  \n",
      "...           ...  \n",
      "1735            1  \n",
      "3681           -1  \n",
      "3547           -1  \n",
      "3543           -1  \n",
      "3896           -1  \n",
      "\n",
      "[1401 rows x 4 columns]\n",
      "0.9393939393939394\n",
      "0.8394004282655246\n"
     ]
    }
   ],
   "source": [
    "\n",
    "# Predict probabilities\n",
    "y_probs = model.predict_proba(x_test)\n",
    "y_predict = model.predict(x_test)\n",
    "\n",
    "# Map probabilities back to continuous values\n",
    "\n",
    "# print(\"Unique classes in y_binned:\", np.unique(y_binned))\n",
    "\n",
    "# Convert predictions back to original scale [-1, 1]\n",
    "\n",
    "# print(\"Continuous Predictions:\", original_values)\n",
    "x_test_texts = vectorizer.inverse_transform(x_test)  # List of tokenized words per row\n",
    "print(y_predict)\n",
    "# Combine x_test with predictions into a DataFrame\n",
    "result_df = pd.DataFrame({\n",
    "    \"OriginalText\": x_original_test,\n",
    "    \"VectorizedText\": [\" \".join(text) for text in x_test_texts],\n",
    "    \"Predicted_Value\": y_predict,\n",
    "    \"ActualValue\": y_test\n",
    "})\n",
    "\n",
    "result_df.to_csv(\"predicted.csv\")\n",
    "\n",
    "print(result_df)\n",
    "\n",
    "print(model.score(x_train, y_train))\n",
    "print(model.score(x_test, y_test))"
   ]
  },
  {
   "cell_type": "code",
   "execution_count": null,
   "id": "6eace1ba-0796-45dd-9ecc-21bb25d1a2ec",
   "metadata": {},
   "outputs": [],
   "source": []
  }
 ],
 "metadata": {
  "kernelspec": {
   "display_name": "Python 3 (ipykernel)",
   "language": "python",
   "name": "python3"
  },
  "language_info": {
   "codemirror_mode": {
    "name": "ipython",
    "version": 3
   },
   "file_extension": ".py",
   "mimetype": "text/x-python",
   "name": "python",
   "nbconvert_exporter": "python",
   "pygments_lexer": "ipython3",
   "version": "3.12.2"
  }
 },
 "nbformat": 4,
 "nbformat_minor": 5
}
