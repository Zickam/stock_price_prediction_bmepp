{
 "cells": [
  {
   "cell_type": "code",
   "execution_count": 1,
   "id": "c56e9ba7-8980-40f1-a7ef-8b31cd263d95",
   "metadata": {},
   "outputs": [],
   "source": [
    "import datetime\n",
    "import pickle\n",
    "import logging\n",
    "import csv\n",
    "import os\n",
    "from enum import Enum\n",
    "import string\n",
    "\n",
    "\n",
    "logging.basicConfig(\n",
    "    format=\"%(levelname)s %(asctime)s [%(filename)s:%(lineno)d]: %(message)s\",\n",
    "    level=logging.DEBUG,\n",
    ")\n",
    "\n",
    "import pandas as pd\n",
    "import nltk\n",
    "from nltk.corpus import stopwords\n",
    "from nltk.tokenize import word_tokenize\n",
    "from nltk.stem.snowball import SnowballStemmer\n",
    "from sklearn.feature_extraction.text import TfidfVectorizer, CountVectorizer\n",
    "from nltk.tokenize import sent_tokenize\n",
    "from sklearn.linear_model import LogisticRegression\n",
    "import numpy as np\n",
    "from sklearn.model_selection import train_test_split"
   ]
  },
  {
   "cell_type": "code",
   "execution_count": 2,
   "id": "132e31ad-f395-4f48-b850-3f9dc8b2fee2",
   "metadata": {},
   "outputs": [
    {
     "name": "stderr",
     "output_type": "stream",
     "text": [
      "[nltk_data] Downloading package punkt_tab to /home/almaz/nltk_data...\n",
      "[nltk_data]   Package punkt_tab is already up-to-date!\n",
      "[nltk_data] Downloading package stopwords to /home/almaz/nltk_data...\n",
      "[nltk_data]   Package stopwords is already up-to-date!\n"
     ]
    }
   ],
   "source": [
    "nltk.download('punkt_tab')\n",
    "nltk.download('stopwords')\n",
    "\n",
    "stop_words = set(stopwords.words('russian'))\n",
    "stemmer = SnowballStemmer(\"russian\")"
   ]
  },
  {
   "cell_type": "code",
   "execution_count": 3,
   "id": "0d1dff43-ec4c-4055-8fd2-0b1fe26d72bc",
   "metadata": {},
   "outputs": [],
   "source": [
    "model = LogisticRegression(\n",
    "        max_iter=1900  # 1900\n",
    "    )\n",
    "vectorizer = TfidfVectorizer(stop_words=list(stop_words))"
   ]
  },
  {
   "cell_type": "code",
   "execution_count": 4,
   "id": "0f7ca896-aaca-454d-8493-4148013f50bb",
   "metadata": {},
   "outputs": [],
   "source": [
    "allowed_symbols = (\n",
    "        string.ascii_lowercase +\n",
    "        \" -+%.,\" +\n",
    "        # string.digits +\n",
    "        \"абвгдежзийклмнопрстуфхцчшщъыьэюя\"\n",
    ")\n",
    "def getClearText(text: str) -> str:\n",
    "    cleared_text = \"\"\n",
    "    for letter in text:\n",
    "        if letter in allowed_symbols:\n",
    "            cleared_text += letter\n",
    "\n",
    "    return cleared_text\n",
    "\n",
    "replace_dict = {\n",
    "    \" +\": \" плюс \",\n",
    "    \" -\": \" минус \",\n",
    "    \"%\": \" процент \"\n",
    "}\n",
    "def replaceSymbols(text: str) -> str:\n",
    "    new_text = text\n",
    "    for key, value in replace_dict.items():\n",
    "        new_text = new_text.replace(key, value)\n",
    "    return new_text\n",
    "\n",
    "def getFullClearText(text: str) -> str:\n",
    "    text = text.lower()\n",
    "    cleared_text = getClearText(text)\n",
    "    cleared_text = replaceSymbols(cleared_text)\n",
    "    return cleared_text"
   ]
  },
  {
   "cell_type": "code",
   "execution_count": 32,
   "id": "8780e527-4324-460e-b89b-8e8fa1ea8f79",
   "metadata": {},
   "outputs": [],
   "source": [
    "def fit(db_path: str):\n",
    "    global model, vectorizer\n",
    "\n",
    "    df = pd.read_csv(db_path)\n",
    "    df_texts = df.Text\n",
    "    print(df.head(200))\n",
    "    values = np.array([-1 if value < -0.08 else 1 for value in df.Value])\n",
    "\n",
    "    cleared = []\n",
    "    for text in df_texts:\n",
    "        cleared.append(getFullClearText(text))\n",
    "\n",
    "    vectorized = vectorizer.fit_transform(cleared)\n",
    "    model.fit(vectorized, values)"
   ]
  },
  {
   "cell_type": "code",
   "execution_count": 8,
   "id": "2103daa5-3340-442d-8710-f20a5409c3b1",
   "metadata": {},
   "outputs": [],
   "source": [
    "def predict(ticker: str) -> str:\n",
    "    csv_path = f\"../parse_experiments/recent_news/{ticker}.csv\"\n",
    "    try:\n",
    "        with open(\n",
    "                csv_path,\n",
    "                mode='r',\n",
    "                newline='',\n",
    "                encoding='utf-8'\n",
    "        ) as file:\n",
    "            file.seek(0)\n",
    "            reader = csv.DictReader(file)\n",
    "            news = []\n",
    "            predictors = []\n",
    "\n",
    "            for i, row in enumerate(reader):\n",
    "                title = row['Title']\n",
    "                text = row['Text']\n",
    "                time = row['Time']\n",
    "                url = row['Url']\n",
    "\n",
    "                time = datetime.datetime.strptime(time, \"%d.%m.%Y, %H:%M\")\n",
    "                if time < datetime.datetime.now() - datetime.timedelta(days=365 * 2):\n",
    "                    continue\n",
    "\n",
    "                news.append({})\n",
    "                news[i][\"text\"] = row[\"Text\"]\n",
    "                news[i][\"url\"] = row[\"Url\"]\n",
    "                news[i][\"title\"] = row[\"Title\"]\n",
    "                news[i][\"text_cleared\"] = getFullClearText(text)\n",
    "\n",
    "                predictors.append(news[i][\"text_cleared\"])\n",
    "\n",
    "            if len(news) == 0:\n",
    "                return f\"Не нашлось новостей за последние два года для {ticker} :(\"\n",
    "\n",
    "            vectorized = vectorizer.transform(predictors)\n",
    "\n",
    "            y_predict = model.predict(vectorized)\n",
    "\n",
    "            logging.info(f\"PREDICT {y_predict}\")\n",
    "\n",
    "            verdict = f\"Оценка новостей связанных с компанией {ticker.upper()}:\\n\"\n",
    "\n",
    "            for i in range(len(news)):\n",
    "                match y_predict[i]:\n",
    "                    case -1:\n",
    "                        mark = \"💩\"\n",
    "                    case 1:\n",
    "                        mark = \"🤑\"\n",
    "                    case other:\n",
    "                        mark = f\"{other}: непредвиденный аргумент y_predict[i]\"\n",
    "                sample = f\"{mark} {i + 1}. [{news[i]['title']}]({news[i]['url']})\"\n",
    "                verdict += sample + \"\\n\"\n",
    "\n",
    "            overall_mark = \"НЕПЕРСПЕКТИВНАЯ\" if sum(y_predict) < 0 else \"ПЕРСПЕКТИВНАЯ\"\n",
    "            verdict += (\"\\n\"\n",
    "                        f\"Общая оценка: *{overall_mark}*\")\n",
    "\n",
    "            return verdict\n",
    "\n",
    "    except FileNotFoundError as ex:\n",
    "        return f\"Не нашлось новостей за последние два года для {ticker} :(\"\n",
    "\n"
   ]
  },
  {
   "cell_type": "code",
   "execution_count": 33,
   "id": "04d79e03-728b-4109-a756-2794fa477b7c",
   "metadata": {},
   "outputs": [
    {
     "name": "stdout",
     "output_type": "stream",
     "text": [
      "                                                 Title  \\\n",
      "0    Рынок акций РФ закрылся падением, Индекс МосБи...   \n",
      "1    Рынок акций РФ закрылся падением, Индекс МосБи...   \n",
      "2    Рынок акций РФ закрылся падением, Индекс МосБи...   \n",
      "3    Рынок акций РФ закрылся ростом, Индекс МосБирж...   \n",
      "4    Рынок акций РФ закрылся ростом, Индекс МосБирж...   \n",
      "..                                                 ...   \n",
      "195  Рынок акций Московской биржи по состоянию на 1...   \n",
      "196  Акционеры \"Лензолота\" одобрили дивиденды за 9 ...   \n",
      "197  BNY откажется от функций депозитария по распис...   \n",
      "198  Рынок акций Московской биржи по состоянию на 1...   \n",
      "199  Рынок акций Московской биржи по состоянию на 1...   \n",
      "\n",
      "                                                  Text               Time  \\\n",
      "0    © Reuters. Рынок акций РФ закрылся падением, И...  21.06.2018, 19:35   \n",
      "1    © Reuters. Рынок акций РФ закрылся падением, И...  15.05.2018, 19:35   \n",
      "2    Рынок акций РФ закрылся падением, Индекс МосБи...  08.06.2018, 19:35   \n",
      "3    © Reuters. Рынок акций РФ закрылся ростом, Инд...  04.06.2018, 19:35   \n",
      "4    © Reuters. Рынок акций РФ закрылся ростом, Инд...  11.05.2018, 19:35   \n",
      "..                                                 ...                ...   \n",
      "195  © Reuters. Рынок акций Московской биржи по сос...  09.11.2022, 10:27   \n",
      "196  Акционеры \"Лензолота\" одобрили дивиденды за 9 ...  17.11.2022, 17:55   \n",
      "197  © Reuters. BNY откажется от функций депозитари...  15.11.2022, 13:24   \n",
      "198  © Reuters. Рынок акций Московской биржи по сос...  17.11.2022, 10:27   \n",
      "199  © Reuters. Рынок акций Московской биржи по сос...  09.11.2022, 14:45   \n",
      "\n",
      "                                                   Url     Value Unnamed: 5  \\\n",
      "0    https://ru.investing.com/news/stock-market-new...  0.991270        NaN   \n",
      "1    https://ru.investing.com/news/stock-market-new...  0.991117        NaN   \n",
      "2    https://ru.investing.com/news/stock-market-new...  0.990996        NaN   \n",
      "3    https://ru.investing.com/news/stock-market-new...  0.990191        NaN   \n",
      "4    https://ru.investing.com/news/stock-market-new...  0.989626        NaN   \n",
      "..                                                 ...       ...        ...   \n",
      "195  https://ru.investing.com/news/stock-market-new...  0.820196        NaN   \n",
      "196  https://ru.investing.com/news/economy/article-...  0.819333        NaN   \n",
      "197  https://ru.investing.com/news/stock-market-new...  0.816951        NaN   \n",
      "198  https://ru.investing.com/news/stock-market-new...  0.816896        NaN   \n",
      "199  https://ru.investing.com/news/stock-market-new...  0.814447        NaN   \n",
      "\n",
      "     Unnamed: 6  \n",
      "0           NaN  \n",
      "1           NaN  \n",
      "2           NaN  \n",
      "3           NaN  \n",
      "4           NaN  \n",
      "..          ...  \n",
      "195         NaN  \n",
      "196         NaN  \n",
      "197         NaN  \n",
      "198         NaN  \n",
      "199         NaN  \n",
      "\n",
      "[200 rows x 7 columns]\n"
     ]
    }
   ],
   "source": [
    "fit(\"database_some.csv\")"
   ]
  },
  {
   "cell_type": "code",
   "execution_count": 29,
   "id": "04afcd61-d5af-47ac-869f-6f1002d81abf",
   "metadata": {},
   "outputs": [
    {
     "name": "stderr",
     "output_type": "stream",
     "text": [
      "INFO 2025-01-15 00:10:42,480 [332346506.py:40]: PREDICT [ 1 -1  1  1  1  1  1  1 -1 -1]\n"
     ]
    },
    {
     "data": {
      "text/plain": [
       "'Оценка новостей связанных с компанией T:\\n🤑 1. [Рынок акций РФ закрылся ростом, Индекс МосБиржи (ММВБ) прибавил 3,33%](https://ru.investing.com/news/stock-market-news/article-2610900)\\n💩 2. [Т-банк хочет открыть два филиала в Китае](https://ru.investing.com/news/general/article-2609825)\\n🤑 3. [Рынок акций РФ закрылся ростом, Индекс МосБиржи (ММВБ) прибавил 1,50%](https://ru.investing.com/news/stock-market-news/article-2609098)\\n🤑 4. [Рынок акций РФ закрылся ростом, Индекс МосБиржи (ММВБ) прибавил 9,19%](https://ru.investing.com/news/stock-market-news/article-2607248)\\n🤑 5. [Рынок акций РФ закрылся ростом, Индекс МосБиржи (ММВБ) прибавил 1,15%](https://ru.investing.com/news/stock-market-news/article-2604494)\\n🤑 6. [Рынок акций РФ закрылся падением, Индекс МосБиржи (ММВБ) снизился на 0,88%](https://ru.investing.com/news/stock-market-news/article-2599618)\\n🤑 7. [Рынок акций РФ закрылся падением, Индекс МосБиржи (ММВБ) снизился на 1,94%](https://ru.investing.com/news/stock-market-news/article-2596685)\\n🤑 8. [Рынок акций РФ закрылся ростом, Индекс МосБиржи (ММВБ) прибавил 0,47%](https://ru.investing.com/news/stock-market-news/article-2580517)\\n💩 9. [Брокер «Т-Инвестиции» начал тестировать круглосуточные торги](https://ru.investing.com/news/general-news/article-2573990)\\n💩 10. [На Мосбирже появился первый тикер из одной буквы](https://ru.investing.com/news/general/article-2571482)\\n\\nОбщая оценка: *ПЕРСПЕКТИВНАЯ*'"
      ]
     },
     "execution_count": 29,
     "metadata": {},
     "output_type": "execute_result"
    }
   ],
   "source": [
    "predict(\"T\")"
   ]
  },
  {
   "cell_type": "code",
   "execution_count": null,
   "id": "6a66fd24-3b5f-430f-ac27-243a770e8056",
   "metadata": {},
   "outputs": [],
   "source": []
  }
 ],
 "metadata": {
  "kernelspec": {
   "display_name": "Python 3 (ipykernel)",
   "language": "python",
   "name": "python3"
  },
  "language_info": {
   "codemirror_mode": {
    "name": "ipython",
    "version": 3
   },
   "file_extension": ".py",
   "mimetype": "text/x-python",
   "name": "python",
   "nbconvert_exporter": "python",
   "pygments_lexer": "ipython3",
   "version": "3.12.7"
  }
 },
 "nbformat": 4,
 "nbformat_minor": 5
}
